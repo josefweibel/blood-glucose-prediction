{
 "cells": [
  {
   "cell_type": "code",
   "execution_count": 1,
   "metadata": {
    "ExecuteTime": {
     "end_time": "2024-11-18T11:42:44.092749Z",
     "start_time": "2024-11-18T11:42:43.312668Z"
    }
   },
   "outputs": [],
   "source": [
    "import numpy as np\n",
    "import pandas as pd\n",
    "import torch\n",
    "from torch import nn, optim\n",
    "from tqdm.notebook import tqdm\n",
    "import os\n",
    "import matplotlib.pyplot as plt\n",
    "\n",
    "if os.getcwd().endswith('notebooks'):\n",
    "    os.chdir('..')\n",
    "\n",
    "device = torch.device('cpu')\n",
    "\n",
    "if torch.cuda.is_available():\n",
    "  device = torch.device('cuda')\n",
    "elif torch.backends.mps.is_available():\n",
    "  device = torch.device('mps')"
   ]
  },
  {
   "cell_type": "code",
   "execution_count": 4,
   "metadata": {
    "ExecuteTime": {
     "end_time": "2024-11-18T11:42:45.658712Z",
     "start_time": "2024-11-18T11:42:45.582689Z"
    }
   },
   "outputs": [],
   "source": [
    "interval = 5 # mins\n",
    "n_train = int(60 / interval)\n",
    "n_pred = int(30 / interval)"
   ]
  },
  {
   "cell_type": "code",
   "execution_count": 5,
   "metadata": {
    "ExecuteTime": {
     "end_time": "2024-11-18T11:42:46.551046Z",
     "start_time": "2024-11-18T11:42:46.471595Z"
    }
   },
   "outputs": [],
   "source": [
    "class Model(nn.Module):\n",
    "  def __init__(self, input_size, hidden_size, num_layers=1):\n",
    "    super(Model, self).__init__()\n",
    "    self.rnn = nn.RNN(\n",
    "        input_size=input_size,\n",
    "        hidden_size=hidden_size,\n",
    "        num_layers=num_layers,\n",
    "        batch_first=True,\n",
    "    )\n",
    "    self.linear = nn.Linear(hidden_size, 1)\n",
    "\n",
    "  def forward(self, x, hidden_prev): # x.shape = (batch_size, 18)\n",
    "    batch_size = x.shape[0]\n",
    "    x = x.unsqueeze(-1) # x.shape = (batch_size, 18, 1)\n",
    "    x, hidden_prev = self.rnn(x, hidden_prev) # x.shape = (batch_size, 18, hidden_size)\n",
    "    hidden_size = x.shape[-1]\n",
    "    x = x.reshape(-1, hidden_size) # x.shape = (batch_size * 18, hidden_size)\n",
    "    x = self.linear(x) # x.shape = (batch_size * 18, 1)\n",
    "    x = x.reshape(batch_size, -1) # x.shape = (batch_size, 18)\n",
    "    return x, hidden_prev"
   ]
  },
  {
   "cell_type": "code",
   "execution_count": 157,
   "metadata": {},
   "outputs": [
    {
     "data": {
      "text/html": [
       "<div>\n",
       "<style scoped>\n",
       "    .dataframe tbody tr th:only-of-type {\n",
       "        vertical-align: middle;\n",
       "    }\n",
       "\n",
       "    .dataframe tbody tr th {\n",
       "        vertical-align: top;\n",
       "    }\n",
       "\n",
       "    .dataframe thead th {\n",
       "        text-align: right;\n",
       "    }\n",
       "</style>\n",
       "<table border=\"1\" class=\"dataframe\">\n",
       "  <thead>\n",
       "    <tr style=\"text-align: right;\">\n",
       "      <th></th>\n",
       "      <th>Unnamed: 0</th>\n",
       "      <th>index</th>\n",
       "      <th>5minute_intervals_timestamp</th>\n",
       "      <th>missing_cbg</th>\n",
       "      <th>cbg</th>\n",
       "      <th>basal</th>\n",
       "      <th>gsr</th>\n",
       "      <th>carbInput</th>\n",
       "      <th>bolus</th>\n",
       "      <th>year</th>\n",
       "      <th>split</th>\n",
       "      <th>subject</th>\n",
       "    </tr>\n",
       "  </thead>\n",
       "  <tbody>\n",
       "    <tr>\n",
       "      <th>13097</th>\n",
       "      <td>13097</td>\n",
       "      <td>0</td>\n",
       "      <td>2021-08-30 11:53:00.000000000</td>\n",
       "      <td>False</td>\n",
       "      <td>116.0</td>\n",
       "      <td>1.25</td>\n",
       "      <td>0.000067</td>\n",
       "      <td>0.0</td>\n",
       "      <td>0.0</td>\n",
       "      <td>2018</td>\n",
       "      <td>train</td>\n",
       "      <td>588</td>\n",
       "    </tr>\n",
       "    <tr>\n",
       "      <th>13098</th>\n",
       "      <td>13098</td>\n",
       "      <td>1</td>\n",
       "      <td>2021-08-30 11:58:00.032051058</td>\n",
       "      <td>False</td>\n",
       "      <td>117.0</td>\n",
       "      <td>1.25</td>\n",
       "      <td>0.000066</td>\n",
       "      <td>37.0</td>\n",
       "      <td>0.0</td>\n",
       "      <td>2018</td>\n",
       "      <td>train</td>\n",
       "      <td>588</td>\n",
       "    </tr>\n",
       "    <tr>\n",
       "      <th>13099</th>\n",
       "      <td>13099</td>\n",
       "      <td>2</td>\n",
       "      <td>2021-08-30 12:03:00.064102560</td>\n",
       "      <td>False</td>\n",
       "      <td>119.0</td>\n",
       "      <td>1.25</td>\n",
       "      <td>0.000000</td>\n",
       "      <td>0.0</td>\n",
       "      <td>5.1</td>\n",
       "      <td>2018</td>\n",
       "      <td>train</td>\n",
       "      <td>588</td>\n",
       "    </tr>\n",
       "    <tr>\n",
       "      <th>13100</th>\n",
       "      <td>13100</td>\n",
       "      <td>3</td>\n",
       "      <td>2021-08-30 12:08:00.096153618</td>\n",
       "      <td>False</td>\n",
       "      <td>116.0</td>\n",
       "      <td>1.25</td>\n",
       "      <td>0.000066</td>\n",
       "      <td>0.0</td>\n",
       "      <td>0.0</td>\n",
       "      <td>2018</td>\n",
       "      <td>train</td>\n",
       "      <td>588</td>\n",
       "    </tr>\n",
       "    <tr>\n",
       "      <th>13101</th>\n",
       "      <td>13101</td>\n",
       "      <td>4</td>\n",
       "      <td>2021-08-30 12:13:00.128205120</td>\n",
       "      <td>False</td>\n",
       "      <td>111.0</td>\n",
       "      <td>1.25</td>\n",
       "      <td>0.000067</td>\n",
       "      <td>0.0</td>\n",
       "      <td>0.0</td>\n",
       "      <td>2018</td>\n",
       "      <td>train</td>\n",
       "      <td>588</td>\n",
       "    </tr>\n",
       "    <tr>\n",
       "      <th>...</th>\n",
       "      <td>...</td>\n",
       "      <td>...</td>\n",
       "      <td>...</td>\n",
       "      <td>...</td>\n",
       "      <td>...</td>\n",
       "      <td>...</td>\n",
       "      <td>...</td>\n",
       "      <td>...</td>\n",
       "      <td>...</td>\n",
       "      <td>...</td>\n",
       "      <td>...</td>\n",
       "      <td>...</td>\n",
       "    </tr>\n",
       "    <tr>\n",
       "      <th>88855</th>\n",
       "      <td>13104</td>\n",
       "      <td>13104</td>\n",
       "      <td>2027-07-03 23:41:43.903875498</td>\n",
       "      <td>False</td>\n",
       "      <td>255.0</td>\n",
       "      <td>0.80</td>\n",
       "      <td>0.000000</td>\n",
       "      <td>0.0</td>\n",
       "      <td>0.0</td>\n",
       "      <td>2020</td>\n",
       "      <td>train</td>\n",
       "      <td>540</td>\n",
       "    </tr>\n",
       "    <tr>\n",
       "      <th>88856</th>\n",
       "      <td>13105</td>\n",
       "      <td>13105</td>\n",
       "      <td>2027-07-03 23:46:43.927906752</td>\n",
       "      <td>False</td>\n",
       "      <td>258.0</td>\n",
       "      <td>0.80</td>\n",
       "      <td>0.000000</td>\n",
       "      <td>0.0</td>\n",
       "      <td>0.0</td>\n",
       "      <td>2020</td>\n",
       "      <td>train</td>\n",
       "      <td>540</td>\n",
       "    </tr>\n",
       "    <tr>\n",
       "      <th>88857</th>\n",
       "      <td>13106</td>\n",
       "      <td>13106</td>\n",
       "      <td>2027-07-03 23:51:43.951938006</td>\n",
       "      <td>False</td>\n",
       "      <td>258.0</td>\n",
       "      <td>0.80</td>\n",
       "      <td>0.000000</td>\n",
       "      <td>0.0</td>\n",
       "      <td>0.0</td>\n",
       "      <td>2020</td>\n",
       "      <td>train</td>\n",
       "      <td>540</td>\n",
       "    </tr>\n",
       "    <tr>\n",
       "      <th>88858</th>\n",
       "      <td>13107</td>\n",
       "      <td>13107</td>\n",
       "      <td>2027-07-03 23:56:43.975968810</td>\n",
       "      <td>False</td>\n",
       "      <td>257.0</td>\n",
       "      <td>0.80</td>\n",
       "      <td>0.000000</td>\n",
       "      <td>0.0</td>\n",
       "      <td>0.0</td>\n",
       "      <td>2020</td>\n",
       "      <td>train</td>\n",
       "      <td>540</td>\n",
       "    </tr>\n",
       "    <tr>\n",
       "      <th>88859</th>\n",
       "      <td>13108</td>\n",
       "      <td>13108</td>\n",
       "      <td>2027-07-04 00:01:44.000000058</td>\n",
       "      <td>False</td>\n",
       "      <td>255.0</td>\n",
       "      <td>0.40</td>\n",
       "      <td>0.000000</td>\n",
       "      <td>0.0</td>\n",
       "      <td>0.0</td>\n",
       "      <td>2020</td>\n",
       "      <td>train</td>\n",
       "      <td>540</td>\n",
       "    </tr>\n",
       "  </tbody>\n",
       "</table>\n",
       "<p>153039 rows × 12 columns</p>\n",
       "</div>"
      ],
      "text/plain": [
       "       Unnamed: 0  index    5minute_intervals_timestamp  missing_cbg    cbg  \\\n",
       "13097       13097      0  2021-08-30 11:53:00.000000000        False  116.0   \n",
       "13098       13098      1  2021-08-30 11:58:00.032051058        False  117.0   \n",
       "13099       13099      2  2021-08-30 12:03:00.064102560        False  119.0   \n",
       "13100       13100      3  2021-08-30 12:08:00.096153618        False  116.0   \n",
       "13101       13101      4  2021-08-30 12:13:00.128205120        False  111.0   \n",
       "...           ...    ...                            ...          ...    ...   \n",
       "88855       13104  13104  2027-07-03 23:41:43.903875498        False  255.0   \n",
       "88856       13105  13105  2027-07-03 23:46:43.927906752        False  258.0   \n",
       "88857       13106  13106  2027-07-03 23:51:43.951938006        False  258.0   \n",
       "88858       13107  13107  2027-07-03 23:56:43.975968810        False  257.0   \n",
       "88859       13108  13108  2027-07-04 00:01:44.000000058        False  255.0   \n",
       "\n",
       "       basal       gsr  carbInput  bolus  year  split  subject  \n",
       "13097   1.25  0.000067        0.0    0.0  2018  train      588  \n",
       "13098   1.25  0.000066       37.0    0.0  2018  train      588  \n",
       "13099   1.25  0.000000        0.0    5.1  2018  train      588  \n",
       "13100   1.25  0.000066        0.0    0.0  2018  train      588  \n",
       "13101   1.25  0.000067        0.0    0.0  2018  train      588  \n",
       "...      ...       ...        ...    ...   ...    ...      ...  \n",
       "88855   0.80  0.000000        0.0    0.0  2020  train      540  \n",
       "88856   0.80  0.000000        0.0    0.0  2020  train      540  \n",
       "88857   0.80  0.000000        0.0    0.0  2020  train      540  \n",
       "88858   0.80  0.000000        0.0    0.0  2020  train      540  \n",
       "88859   0.40  0.000000        0.0    0.0  2020  train      540  \n",
       "\n",
       "[153039 rows x 12 columns]"
      ]
     },
     "execution_count": 157,
     "metadata": {},
     "output_type": "execute_result"
    }
   ],
   "source": [
    "train_data = pd.read_csv('./data/train.csv').sort_values('5minute_intervals_timestamp')\n",
    "train_data"
   ]
  },
  {
   "cell_type": "code",
   "execution_count": 158,
   "metadata": {},
   "outputs": [],
   "source": [
    "# train_data = train_data[train_data['subject'] == train_data['subject'].unique()[0]]\n",
    "# train_data = train_data.iloc[0:18]"
   ]
  },
  {
   "cell_type": "code",
   "execution_count": 159,
   "metadata": {},
   "outputs": [],
   "source": [
    "hidden_size = 64\n",
    "lr = 1e-2\n",
    "\n",
    "criterion = nn.MSELoss()\n",
    "model = Model(input_size=1, hidden_size=hidden_size)\n",
    "model = model.to(device)\n",
    "optimizer = optim.Adam(model.parameters(), lr, weight_decay=0.)\n",
    "start_hidden = None # torch.zeros(1, hidden_size)"
   ]
  },
  {
   "cell_type": "code",
   "execution_count": 160,
   "metadata": {},
   "outputs": [
    {
     "data": {
      "application/vnd.jupyter.widget-view+json": {
       "model_id": "cadd23cf63ed4d20a73a1384b0477890",
       "version_major": 2,
       "version_minor": 0
      },
      "text/plain": [
       "  0%|          | 0/10000 [00:00<?, ?it/s]"
      ]
     },
     "metadata": {},
     "output_type": "display_data"
    }
   ],
   "source": [
    "n_epochs = 10000\n",
    "n_repeat_subjects = 16\n",
    "\n",
    "losses = []\n",
    "\n",
    "model.train()\n",
    "for epoch in tqdm(range(n_epochs)):\n",
    "  X = []\n",
    "  for i in range(n_repeat_subjects):\n",
    "    for subject in train_data['subject'].unique():\n",
    "      subject_data = train_data[train_data['subject'] == subject]\n",
    "\n",
    "      start_idx = np.random.choice(np.arange(len(subject_data) - n_train - n_pred + 1))\n",
    "\n",
    "      x = subject_data['cbg'].iloc[start_idx:start_idx + n_train + n_pred].values\n",
    "      X.append(torch.Tensor(x))\n",
    "\n",
    "  X = torch.vstack(X).to(device)\n",
    "  Y, _ = model(X, start_hidden)\n",
    "\n",
    "  loss = criterion(Y.flatten(), X.flatten())\n",
    "\n",
    "  optimizer.zero_grad()\n",
    "  loss.backward()\n",
    "  optimizer.step()\n",
    "\n",
    "  losses.append(loss.detach().item())"
   ]
  },
  {
   "cell_type": "code",
   "execution_count": 163,
   "metadata": {},
   "outputs": [
    {
     "data": {
      "image/png": "[encoded data removed]",
      "text/plain": [
       "<Figure size 1000x500 with 1 Axes>"
      ]
     },
     "metadata": {},
     "output_type": "display_data"
    }
   ],
   "source": [
    "plt.figure(figsize = (10, 5))\n",
    "plt.plot(np.arange(len(losses)), np.sqrt(losses))\n",
    "plt.title('Loss Curve')\n",
    "plt.xlabel('iterations')\n",
    "plt.ylabel('log. RMSE loss on training dataset')\n",
    "plt.yscale('log')\n",
    "plt.show()"
   ]
  },
  {
   "cell_type": "code",
   "execution_count": 162,
   "metadata": {},
   "outputs": [],
   "source": [
    "torch.save(model.state_dict(), './models/rnn.pt')"
   ]
  },
  {
   "cell_type": "markdown",
   "metadata": {},
   "source": [
    "## Example with Pipeline"
   ]
  },
  {
   "cell_type": "code",
   "execution_count": 3,
   "metadata": {
    "ExecuteTime": {
     "end_time": "2024-11-21T14:46:52.879137Z",
     "start_time": "2024-11-21T14:46:52.661307Z"
    }
   },
   "outputs": [],
   "source": [
    "%load_ext autoreload\n",
    "%autoreload 2"
   ]
  },
  {
   "cell_type": "code",
   "execution_count": 4,
   "metadata": {
    "ExecuteTime": {
     "end_time": "2024-11-21T14:47:01.882648Z",
     "start_time": "2024-11-21T14:46:52.904816Z"
    }
   },
   "outputs": [],
   "source": [
    "import os\n",
    "if os.getcwd().endswith('notebooks'):\n",
    "    os.chdir('..')\n",
    "\n",
    "from src.training import train, investigate_predictions"
   ]
  },
  {
   "cell_type": "code",
   "execution_count": 47,
   "metadata": {
    "ExecuteTime": {
     "end_time": "2024-11-21T09:08:25.767173Z",
     "start_time": "2024-11-21T09:07:55.390442Z"
    }
   },
   "outputs": [
    {
     "name": "stdout",
     "output_type": "stream",
     "text": [
      "👉 loading config\n",
      "👉 loading data\n",
      "   training samples: 122261\n",
      "   val samples: 30541\n",
      "👉 training model\n"
     ]
    },
    {
     "data": {
      "application/vnd.jupyter.widget-view+json": {
       "model_id": "5e73ebbe809645c38d46cc11f4779527",
       "version_major": 2,
       "version_minor": 0
      },
      "text/plain": [
       "  0%|          | 0/10 [00:00<?, ?it/s]"
      ]
     },
     "metadata": {},
     "output_type": "display_data"
    },
    {
     "ename": "KeyboardInterrupt",
     "evalue": "",
     "output_type": "error",
     "traceback": [
      "\u001b[0;31m---------------------------------------------------------------------------\u001b[0m",
      "\u001b[0;31mKeyboardInterrupt\u001b[0m                         Traceback (most recent call last)",
      "Cell \u001b[0;32mIn[47], line 1\u001b[0m\n\u001b[0;32m----> 1\u001b[0m model \u001b[38;5;241m=\u001b[39m \u001b[43mtrain\u001b[49m\u001b[43m(\u001b[49m\u001b[38;5;124;43m'\u001b[39;49m\u001b[38;5;124;43m002-rnn\u001b[39;49m\u001b[38;5;124;43m'\u001b[39;49m\u001b[43m)\u001b[49m\n",
      "File \u001b[0;32m~/dev/blood-glucose-prediction/src/training.py:224\u001b[0m, in \u001b[0;36mtrain\u001b[0;34m(config_name)\u001b[0m\n\u001b[1;32m    221\u001b[0m     loss \u001b[38;5;241m=\u001b[39m criterion(Y\u001b[38;5;241m.\u001b[39mflatten(), X[:, :, \u001b[38;5;241m0\u001b[39m]\u001b[38;5;241m.\u001b[39mflatten())  \u001b[38;5;66;03m# Adjust target as needed for the first feature\u001b[39;00m\n\u001b[1;32m    223\u001b[0m optimizer\u001b[38;5;241m.\u001b[39mzero_grad()\n\u001b[0;32m--> 224\u001b[0m \u001b[43mloss\u001b[49m\u001b[38;5;241;43m.\u001b[39;49m\u001b[43mbackward\u001b[49m\u001b[43m(\u001b[49m\u001b[43m)\u001b[49m\n\u001b[1;32m    225\u001b[0m optimizer\u001b[38;5;241m.\u001b[39mstep()\n\u001b[1;32m    227\u001b[0m losses\u001b[38;5;241m.\u001b[39mappend(loss\u001b[38;5;241m.\u001b[39mdetach()\u001b[38;5;241m.\u001b[39mitem())\n",
      "File \u001b[0;32m~/.local/share/virtualenvs/blood-glucose-prediction-CP_erEYi/lib/python3.10/site-packages/torch/_tensor.py:581\u001b[0m, in \u001b[0;36mTensor.backward\u001b[0;34m(self, gradient, retain_graph, create_graph, inputs)\u001b[0m\n\u001b[1;32m    571\u001b[0m \u001b[38;5;28;01mif\u001b[39;00m has_torch_function_unary(\u001b[38;5;28mself\u001b[39m):\n\u001b[1;32m    572\u001b[0m     \u001b[38;5;28;01mreturn\u001b[39;00m handle_torch_function(\n\u001b[1;32m    573\u001b[0m         Tensor\u001b[38;5;241m.\u001b[39mbackward,\n\u001b[1;32m    574\u001b[0m         (\u001b[38;5;28mself\u001b[39m,),\n\u001b[0;32m   (...)\u001b[0m\n\u001b[1;32m    579\u001b[0m         inputs\u001b[38;5;241m=\u001b[39minputs,\n\u001b[1;32m    580\u001b[0m     )\n\u001b[0;32m--> 581\u001b[0m \u001b[43mtorch\u001b[49m\u001b[38;5;241;43m.\u001b[39;49m\u001b[43mautograd\u001b[49m\u001b[38;5;241;43m.\u001b[39;49m\u001b[43mbackward\u001b[49m\u001b[43m(\u001b[49m\n\u001b[1;32m    582\u001b[0m \u001b[43m    \u001b[49m\u001b[38;5;28;43mself\u001b[39;49m\u001b[43m,\u001b[49m\u001b[43m \u001b[49m\u001b[43mgradient\u001b[49m\u001b[43m,\u001b[49m\u001b[43m \u001b[49m\u001b[43mretain_graph\u001b[49m\u001b[43m,\u001b[49m\u001b[43m \u001b[49m\u001b[43mcreate_graph\u001b[49m\u001b[43m,\u001b[49m\u001b[43m \u001b[49m\u001b[43minputs\u001b[49m\u001b[38;5;241;43m=\u001b[39;49m\u001b[43minputs\u001b[49m\n\u001b[1;32m    583\u001b[0m \u001b[43m\u001b[49m\u001b[43m)\u001b[49m\n",
      "File \u001b[0;32m~/.local/share/virtualenvs/blood-glucose-prediction-CP_erEYi/lib/python3.10/site-packages/torch/autograd/__init__.py:347\u001b[0m, in \u001b[0;36mbackward\u001b[0;34m(tensors, grad_tensors, retain_graph, create_graph, grad_variables, inputs)\u001b[0m\n\u001b[1;32m    342\u001b[0m     retain_graph \u001b[38;5;241m=\u001b[39m create_graph\n\u001b[1;32m    344\u001b[0m \u001b[38;5;66;03m# The reason we repeat the same comment below is that\u001b[39;00m\n\u001b[1;32m    345\u001b[0m \u001b[38;5;66;03m# some Python versions print out the first line of a multi-line function\u001b[39;00m\n\u001b[1;32m    346\u001b[0m \u001b[38;5;66;03m# calls in the traceback and some print out the last line\u001b[39;00m\n\u001b[0;32m--> 347\u001b[0m \u001b[43m_engine_run_backward\u001b[49m\u001b[43m(\u001b[49m\n\u001b[1;32m    348\u001b[0m \u001b[43m    \u001b[49m\u001b[43mtensors\u001b[49m\u001b[43m,\u001b[49m\n\u001b[1;32m    349\u001b[0m \u001b[43m    \u001b[49m\u001b[43mgrad_tensors_\u001b[49m\u001b[43m,\u001b[49m\n\u001b[1;32m    350\u001b[0m \u001b[43m    \u001b[49m\u001b[43mretain_graph\u001b[49m\u001b[43m,\u001b[49m\n\u001b[1;32m    351\u001b[0m \u001b[43m    \u001b[49m\u001b[43mcreate_graph\u001b[49m\u001b[43m,\u001b[49m\n\u001b[1;32m    352\u001b[0m \u001b[43m    \u001b[49m\u001b[43minputs\u001b[49m\u001b[43m,\u001b[49m\n\u001b[1;32m    353\u001b[0m \u001b[43m    \u001b[49m\u001b[43mallow_unreachable\u001b[49m\u001b[38;5;241;43m=\u001b[39;49m\u001b[38;5;28;43;01mTrue\u001b[39;49;00m\u001b[43m,\u001b[49m\n\u001b[1;32m    354\u001b[0m \u001b[43m    \u001b[49m\u001b[43maccumulate_grad\u001b[49m\u001b[38;5;241;43m=\u001b[39;49m\u001b[38;5;28;43;01mTrue\u001b[39;49;00m\u001b[43m,\u001b[49m\n\u001b[1;32m    355\u001b[0m \u001b[43m\u001b[49m\u001b[43m)\u001b[49m\n",
      "File \u001b[0;32m~/.local/share/virtualenvs/blood-glucose-prediction-CP_erEYi/lib/python3.10/site-packages/torch/autograd/graph.py:825\u001b[0m, in \u001b[0;36m_engine_run_backward\u001b[0;34m(t_outputs, *args, **kwargs)\u001b[0m\n\u001b[1;32m    823\u001b[0m     unregister_hooks \u001b[38;5;241m=\u001b[39m _register_logging_hooks_on_whole_graph(t_outputs)\n\u001b[1;32m    824\u001b[0m \u001b[38;5;28;01mtry\u001b[39;00m:\n\u001b[0;32m--> 825\u001b[0m     \u001b[38;5;28;01mreturn\u001b[39;00m \u001b[43mVariable\u001b[49m\u001b[38;5;241;43m.\u001b[39;49m\u001b[43m_execution_engine\u001b[49m\u001b[38;5;241;43m.\u001b[39;49m\u001b[43mrun_backward\u001b[49m\u001b[43m(\u001b[49m\u001b[43m  \u001b[49m\u001b[38;5;66;43;03m# Calls into the C++ engine to run the backward pass\u001b[39;49;00m\n\u001b[1;32m    826\u001b[0m \u001b[43m        \u001b[49m\u001b[43mt_outputs\u001b[49m\u001b[43m,\u001b[49m\u001b[43m \u001b[49m\u001b[38;5;241;43m*\u001b[39;49m\u001b[43margs\u001b[49m\u001b[43m,\u001b[49m\u001b[43m \u001b[49m\u001b[38;5;241;43m*\u001b[39;49m\u001b[38;5;241;43m*\u001b[39;49m\u001b[43mkwargs\u001b[49m\n\u001b[1;32m    827\u001b[0m \u001b[43m    \u001b[49m\u001b[43m)\u001b[49m  \u001b[38;5;66;03m# Calls into the C++ engine to run the backward pass\u001b[39;00m\n\u001b[1;32m    828\u001b[0m \u001b[38;5;28;01mfinally\u001b[39;00m:\n\u001b[1;32m    829\u001b[0m     \u001b[38;5;28;01mif\u001b[39;00m attach_logging_hooks:\n",
      "\u001b[0;31mKeyboardInterrupt\u001b[0m: "
     ]
    }
   ],
   "source": [
    "model = train('002-rnn')"
   ]
  },
  {
   "cell_type": "code",
   "execution_count": 40,
   "metadata": {
    "ExecuteTime": {
     "end_time": "2024-11-21T14:55:27.597556Z",
     "start_time": "2024-11-21T14:55:09.353984Z"
    }
   },
   "outputs": [
    {
     "name": "stdout",
     "output_type": "stream",
     "text": [
      "👉 loading model\n",
      "👉 loading data\n",
      "   val samples: 30541\n",
      "👉 predicting values\n"
     ]
    }
   ],
   "source": [
    "X, y_preds, y_trues = investigate_predictions('001-rnn')"
   ]
  },
  {
   "cell_type": "code",
   "execution_count": 41,
   "metadata": {},
   "outputs": [
    {
     "data": {
      "text/plain": [
       "(torch.Size([30541, 12, 1]), torch.Size([30541, 6]))"
      ]
     },
     "execution_count": 41,
     "metadata": {},
     "output_type": "execute_result"
    }
   ],
   "source": [
    "X.shape, y_trues.shape"
   ]
  },
  {
   "cell_type": "code",
   "execution_count": 56,
   "metadata": {
    "ExecuteTime": {
     "end_time": "2024-11-21T18:08:38.295650Z",
     "start_time": "2024-11-21T18:08:37.210725Z"
    }
   },
   "outputs": [
    {
     "data": {
      "image/png": "[encoded data removed]",
      "text/plain": [
       "<Figure size 800x600 with 1 Axes>"
      ]
     },
     "metadata": {},
     "output_type": "display_data"
    }
   ],
   "source": [
    "idx = 9900\n",
    "\n",
    "import matplotlib.pyplot as plt\n",
    "plt.figure(figsize=(8, 6))\n",
    "\n",
    "# Line plot\n",
    "plt.plot(np.arange(X.shape[1]), X[idx, :, 0], label='Known Data', color='lightblue', linestyle='-', marker='o')\n",
    "plt.plot(np.arange(X.shape[1], X.shape[1] + y_trues.shape[1]), y_trues[idx].cpu(), label='True Values', color='blue', linestyle='-', marker='o')\n",
    "plt.plot(np.arange(X.shape[1], X.shape[1] + y_preds.shape[1]), y_preds[idx].cpu(), label='Predicted Values', color='red', linestyle='--', marker='x')\n",
    "\n",
    "# Labels and title\n",
    "plt.xlabel('Time [min]')\n",
    "plt.xticks(np.arange(X.shape[1] + y_preds.shape[1]), np.arange(X.shape[1] + y_preds.shape[1]) * 5)\n",
    "plt.ylabel('Values')\n",
    "plt.title('True vs Predicted Values')\n",
    "plt.legend()\n",
    "\n",
    "plt.show()"
   ]
  },
  {
   "cell_type": "code",
   "execution_count": null,
   "metadata": {},
   "outputs": [],
   "source": []
  },
  {
   "cell_type": "code",
   "execution_count": null,
   "metadata": {},
   "outputs": [],
   "source": []
  }
 ],
 "metadata": {
  "kernelspec": {
   "display_name": "blood-glucose-prediction-CP_erEYi",
   "language": "python",
   "name": "python3"
  },
  "language_info": {
   "codemirror_mode": {
    "name": "ipython",
    "version": 3
   },
   "file_extension": ".py",
   "mimetype": "text/x-python",
   "name": "python",
   "nbconvert_exporter": "python",
   "pygments_lexer": "ipython3",
   "version": "3.10.9"
  }
 },
 "nbformat": 4,
 "nbformat_minor": 2
}
