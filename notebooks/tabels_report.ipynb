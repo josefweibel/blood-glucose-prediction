{
 "cells": [
  {
   "cell_type": "code",
   "id": "initial_id",
   "metadata": {
    "collapsed": true,
    "ExecuteTime": {
     "end_time": "2024-12-08T08:36:15.332678Z",
     "start_time": "2024-12-08T08:36:15.203201Z"
    }
   },
   "source": [
    "%load_ext autoreload\n",
    "%autoreload 2"
   ],
   "outputs": [],
   "execution_count": 1
  },
  {
   "metadata": {
    "ExecuteTime": {
     "end_time": "2024-12-08T08:36:22.694464Z",
     "start_time": "2024-12-08T08:36:15.340582Z"
    }
   },
   "cell_type": "code",
   "source": [
    "import os\n",
    "if os.getcwd().endswith('notebooks'):\n",
    "    os.chdir('..')\n",
    "\n",
    "import numpy as np\n",
    "import pandas as pd\n",
    "import matplotlib.pyplot as plt\n",
    "import seaborn as sns\n",
    "import json\n",
    "from src.training import investigate_predictions, calculate_metrics, load_config, DATA_TIME_INTERVAL"
   ],
   "id": "c44e1e1d9ddc0164",
   "outputs": [],
   "execution_count": 2
  },
  {
   "metadata": {},
   "cell_type": "markdown",
   "source": "Model comparison LSTM, GRU, RNN",
   "id": "d4ffbd51a9e566a5"
  },
  {
   "metadata": {
    "ExecuteTime": {
     "end_time": "2024-12-08T08:38:34.593184Z",
     "start_time": "2024-12-08T08:38:34.299061Z"
    }
   },
   "cell_type": "code",
   "source": [
    "model_names = ['000-baseline', '001-baseline', '002-rnn'] # change\n",
    "\n",
    "model_results = []\n",
    "for model_name in model_names:\n",
    "    config = load_config(model_name)\n",
    "\n",
    "    for i in range(config['repetitions'] if 'repetitions' in config else 1):\n",
    "        with open(f'./models/{model_name}_{i+1}_meta.json') as f:\n",
    "            data = json.load(f)\n",
    "            model_results.append({\n",
    "                'model_name': model_name,\n",
    "                **{metric: scores[data['best_epoch']] for metric, scores in data['val_scores'].items()}\n",
    "            })\n",
    "\n",
    "model_results = pd.DataFrame(model_results)"
   ],
   "id": "8fe4d271b79431c7",
   "outputs": [],
   "execution_count": 6
  },
  {
   "metadata": {
    "ExecuteTime": {
     "end_time": "2024-12-08T08:38:35.012399Z",
     "start_time": "2024-12-08T08:38:34.923559Z"
    }
   },
   "cell_type": "code",
   "source": [
    "means = model_results.groupby('model_name').mean().round(2)\n",
    "stds = model_results.groupby('model_name').std().round(2)\n",
    "\n",
    "table = means.astype(str).add(' ± ').add(stds.astype(str))\n",
    "table.columns = table.columns.str.upper()\n",
    "table = table.rename(columns={'GMSE': 'gMSE', 'GRMSE': 'gRMSE'})\n",
    "table = table[['RMSE', 'MAPE', 'gRMSE']]\n",
    "table.index.name = None\n",
    "table"
   ],
   "id": "507a5b5a48d9aeee",
   "outputs": [
    {
     "data": {
      "text/plain": [
       "                      RMSE        MAPE         gRMSE\n",
       "000-baseline  12.33 ± 0.05  0.05 ± 0.0  14.56 ± 0.22\n",
       "001-baseline  13.88 ± 0.02  0.06 ± 0.0  16.13 ± 0.14\n",
       "002-rnn       12.11 ± 0.05  0.05 ± 0.0   14.2 ± 0.17"
      ],
      "text/html": [
       "<div>\n",
       "<style scoped>\n",
       "    .dataframe tbody tr th:only-of-type {\n",
       "        vertical-align: middle;\n",
       "    }\n",
       "\n",
       "    .dataframe tbody tr th {\n",
       "        vertical-align: top;\n",
       "    }\n",
       "\n",
       "    .dataframe thead th {\n",
       "        text-align: right;\n",
       "    }\n",
       "</style>\n",
       "<table border=\"1\" class=\"dataframe\">\n",
       "  <thead>\n",
       "    <tr style=\"text-align: right;\">\n",
       "      <th></th>\n",
       "      <th>RMSE</th>\n",
       "      <th>MAPE</th>\n",
       "      <th>gRMSE</th>\n",
       "    </tr>\n",
       "  </thead>\n",
       "  <tbody>\n",
       "    <tr>\n",
       "      <th>000-baseline</th>\n",
       "      <td>12.33 ± 0.05</td>\n",
       "      <td>0.05 ± 0.0</td>\n",
       "      <td>14.56 ± 0.22</td>\n",
       "    </tr>\n",
       "    <tr>\n",
       "      <th>001-baseline</th>\n",
       "      <td>13.88 ± 0.02</td>\n",
       "      <td>0.06 ± 0.0</td>\n",
       "      <td>16.13 ± 0.14</td>\n",
       "    </tr>\n",
       "    <tr>\n",
       "      <th>002-rnn</th>\n",
       "      <td>12.11 ± 0.05</td>\n",
       "      <td>0.05 ± 0.0</td>\n",
       "      <td>14.2 ± 0.17</td>\n",
       "    </tr>\n",
       "  </tbody>\n",
       "</table>\n",
       "</div>"
      ]
     },
     "execution_count": 7,
     "metadata": {},
     "output_type": "execute_result"
    }
   ],
   "execution_count": 7
  },
  {
   "metadata": {
    "ExecuteTime": {
     "end_time": "2024-12-08T08:38:37.487311Z",
     "start_time": "2024-12-08T08:38:37.413424Z"
    }
   },
   "cell_type": "code",
   "source": "table.to_latex()",
   "id": "e700de802f0ca061",
   "outputs": [
    {
     "data": {
      "text/plain": [
       "'\\\\begin{tabular}{llll}\\n\\\\toprule\\n & RMSE & MAPE & gRMSE \\\\\\\\\\n\\\\midrule\\n000-baseline & 12.33 ± 0.05 & 0.05 ± 0.0 & 14.56 ± 0.22 \\\\\\\\\\n001-baseline & 13.88 ± 0.02 & 0.06 ± 0.0 & 16.13 ± 0.14 \\\\\\\\\\n002-rnn & 12.11 ± 0.05 & 0.05 ± 0.0 & 14.2 ± 0.17 \\\\\\\\\\n\\\\bottomrule\\n\\\\end{tabular}\\n'"
      ]
     },
     "execution_count": 8,
     "metadata": {},
     "output_type": "execute_result"
    }
   ],
   "execution_count": 8
  },
  {
   "metadata": {},
   "cell_type": "markdown",
   "source": "Hidden states comparison",
   "id": "7fee8110cbdc8e2d"
  },
  {
   "metadata": {
    "ExecuteTime": {
     "end_time": "2024-12-08T09:28:46.590117Z",
     "start_time": "2024-12-08T09:28:45.081340Z"
    }
   },
   "cell_type": "code",
   "source": [
    "model_names = ['002-rnn', '011-rnn_hs512', '012-rnn_hs512_256_128', '013-rnn_hs_1024','014-rnn_hs_128'] # change\n",
    "\n",
    "model_results = []\n",
    "for model_name in model_names:\n",
    "    config = load_config(model_name)\n",
    "\n",
    "    for i in range(config['repetitions'] if 'repetitions' in config else 1):\n",
    "        with open(f'./models/{model_name}_{i+1}_meta.json') as f:\n",
    "            data = json.load(f)\n",
    "            model_results.append({\n",
    "                'model_name': model_name,\n",
    "                **{metric: scores[data['best_epoch']] for metric, scores in data['val_scores'].items()}\n",
    "            })\n",
    "\n",
    "model_results = pd.DataFrame(model_results)"
   ],
   "id": "301ef30bf69073e2",
   "outputs": [],
   "execution_count": 14
  },
  {
   "metadata": {
    "ExecuteTime": {
     "end_time": "2024-12-08T09:28:47.816381Z",
     "start_time": "2024-12-08T09:28:47.668488Z"
    }
   },
   "cell_type": "code",
   "source": [
    "means = model_results.groupby('model_name').mean().round(2)\n",
    "stds = model_results.groupby('model_name').std().round(2)\n",
    "\n",
    "table = means.astype(str).add(' ± ').add(stds.astype(str))\n",
    "table.columns = table.columns.str.upper()\n",
    "table = table.rename(columns={'GMSE': 'gMSE', 'GRMSE': 'gRMSE'})\n",
    "table = table[['RMSE', 'MAPE', 'gRMSE']]\n",
    "table.index.name = None\n",
    "table"
   ],
   "id": "300c6e3524397398",
   "outputs": [
    {
     "data": {
      "text/plain": [
       "                               RMSE        MAPE         gRMSE\n",
       "002-rnn                12.11 ± 0.05  0.05 ± 0.0   14.2 ± 0.17\n",
       "011-rnn_hs512           12.1 ± 0.03  0.05 ± 0.0   14.16 ± 0.2\n",
       "012-rnn_hs512_256_128  12.21 ± 0.08  0.05 ± 0.0  14.42 ± 0.12\n",
       "013-rnn_hs_1024        12.12 ± 0.06  0.05 ± 0.0   14.16 ± 0.1\n",
       "014-rnn_hs_128         12.37 ± 0.03  0.05 ± 0.0  14.56 ± 0.07"
      ],
      "text/html": [
       "<div>\n",
       "<style scoped>\n",
       "    .dataframe tbody tr th:only-of-type {\n",
       "        vertical-align: middle;\n",
       "    }\n",
       "\n",
       "    .dataframe tbody tr th {\n",
       "        vertical-align: top;\n",
       "    }\n",
       "\n",
       "    .dataframe thead th {\n",
       "        text-align: right;\n",
       "    }\n",
       "</style>\n",
       "<table border=\"1\" class=\"dataframe\">\n",
       "  <thead>\n",
       "    <tr style=\"text-align: right;\">\n",
       "      <th></th>\n",
       "      <th>RMSE</th>\n",
       "      <th>MAPE</th>\n",
       "      <th>gRMSE</th>\n",
       "    </tr>\n",
       "  </thead>\n",
       "  <tbody>\n",
       "    <tr>\n",
       "      <th>002-rnn</th>\n",
       "      <td>12.11 ± 0.05</td>\n",
       "      <td>0.05 ± 0.0</td>\n",
       "      <td>14.2 ± 0.17</td>\n",
       "    </tr>\n",
       "    <tr>\n",
       "      <th>011-rnn_hs512</th>\n",
       "      <td>12.1 ± 0.03</td>\n",
       "      <td>0.05 ± 0.0</td>\n",
       "      <td>14.16 ± 0.2</td>\n",
       "    </tr>\n",
       "    <tr>\n",
       "      <th>012-rnn_hs512_256_128</th>\n",
       "      <td>12.21 ± 0.08</td>\n",
       "      <td>0.05 ± 0.0</td>\n",
       "      <td>14.42 ± 0.12</td>\n",
       "    </tr>\n",
       "    <tr>\n",
       "      <th>013-rnn_hs_1024</th>\n",
       "      <td>12.12 ± 0.06</td>\n",
       "      <td>0.05 ± 0.0</td>\n",
       "      <td>14.16 ± 0.1</td>\n",
       "    </tr>\n",
       "    <tr>\n",
       "      <th>014-rnn_hs_128</th>\n",
       "      <td>12.37 ± 0.03</td>\n",
       "      <td>0.05 ± 0.0</td>\n",
       "      <td>14.56 ± 0.07</td>\n",
       "    </tr>\n",
       "  </tbody>\n",
       "</table>\n",
       "</div>"
      ]
     },
     "execution_count": 15,
     "metadata": {},
     "output_type": "execute_result"
    }
   ],
   "execution_count": 15
  },
  {
   "metadata": {
    "ExecuteTime": {
     "end_time": "2024-12-08T09:35:00.268949Z",
     "start_time": "2024-12-08T09:34:59.855609Z"
    }
   },
   "cell_type": "code",
   "source": "table.to_latex()",
   "id": "ee36965e084c785a",
   "outputs": [
    {
     "data": {
      "text/plain": [
       "'\\\\begin{tabular}{llll}\\n\\\\toprule\\n & RMSE & MAPE & gRMSE \\\\\\\\\\n\\\\midrule\\n002-rnn & 12.11 ± 0.05 & 0.05 ± 0.0 & 14.2 ± 0.17 \\\\\\\\\\n011-rnn_hs512 & 12.1 ± 0.03 & 0.05 ± 0.0 & 14.16 ± 0.2 \\\\\\\\\\n012-rnn_hs512_256_128 & 12.21 ± 0.08 & 0.05 ± 0.0 & 14.42 ± 0.12 \\\\\\\\\\n013-rnn_hs_1024 & 12.12 ± 0.06 & 0.05 ± 0.0 & 14.16 ± 0.1 \\\\\\\\\\n014-rnn_hs_128 & 12.37 ± 0.03 & 0.05 ± 0.0 & 14.56 ± 0.07 \\\\\\\\\\n\\\\bottomrule\\n\\\\end{tabular}\\n'"
      ]
     },
     "execution_count": 16,
     "metadata": {},
     "output_type": "execute_result"
    }
   ],
   "execution_count": 16
  },
  {
   "metadata": {},
   "cell_type": "markdown",
   "source": "Number layer comparison",
   "id": "d05a4b40ffa9a51c"
  },
  {
   "metadata": {
    "ExecuteTime": {
     "end_time": "2024-12-08T09:54:45.374593Z",
     "start_time": "2024-12-08T09:54:44.923Z"
    }
   },
   "cell_type": "code",
   "source": [
    "model_names = ['011-rnn_hs512', '021-rnn_layer_2', '022-rnn_layer_3']  # change\n",
    "\n",
    "model_results = []\n",
    "for model_name in model_names:\n",
    "    config = load_config(model_name)\n",
    "\n",
    "    for i in range(config['repetitions'] if 'repetitions' in config else 1):\n",
    "        with open(f'./models/{model_name}_{i + 1}_meta.json') as f:\n",
    "            data = json.load(f)\n",
    "            model_results.append({\n",
    "                'model_name': model_name,\n",
    "                **{metric: scores[data['best_epoch']] for metric, scores in data['val_scores'].items()}\n",
    "            })\n",
    "\n",
    "model_results = pd.DataFrame(model_results)"
   ],
   "id": "28b0dc15ba1c4ec6",
   "outputs": [],
   "execution_count": 27
  },
  {
   "metadata": {
    "ExecuteTime": {
     "end_time": "2024-12-08T09:54:46.178671Z",
     "start_time": "2024-12-08T09:54:46.054649Z"
    }
   },
   "cell_type": "code",
   "source": [
    "means = model_results.groupby('model_name').mean().round(2)\n",
    "stds = model_results.groupby('model_name').std().round(2)\n",
    "\n",
    "table = means.astype(str).add(' ± ').add(stds.astype(str))\n",
    "table.columns = table.columns.str.upper()\n",
    "table = table.rename(columns={'GMSE': 'gMSE', 'GRMSE': 'gRMSE'})\n",
    "table = table[['RMSE', 'MAPE', 'gRMSE']]\n",
    "table.index.name = None\n",
    "table"
   ],
   "id": "c017946e7563c8ba",
   "outputs": [
    {
     "data": {
      "text/plain": [
       "                         RMSE        MAPE         gRMSE\n",
       "011-rnn_hs512     12.1 ± 0.03  0.05 ± 0.0   14.16 ± 0.2\n",
       "021-rnn_layer_2  12.09 ± 0.04  0.05 ± 0.0  14.08 ± 0.06\n",
       "022-rnn_layer_3  12.08 ± 0.05  0.05 ± 0.0   14.0 ± 0.09"
      ],
      "text/html": [
       "<div>\n",
       "<style scoped>\n",
       "    .dataframe tbody tr th:only-of-type {\n",
       "        vertical-align: middle;\n",
       "    }\n",
       "\n",
       "    .dataframe tbody tr th {\n",
       "        vertical-align: top;\n",
       "    }\n",
       "\n",
       "    .dataframe thead th {\n",
       "        text-align: right;\n",
       "    }\n",
       "</style>\n",
       "<table border=\"1\" class=\"dataframe\">\n",
       "  <thead>\n",
       "    <tr style=\"text-align: right;\">\n",
       "      <th></th>\n",
       "      <th>RMSE</th>\n",
       "      <th>MAPE</th>\n",
       "      <th>gRMSE</th>\n",
       "    </tr>\n",
       "  </thead>\n",
       "  <tbody>\n",
       "    <tr>\n",
       "      <th>011-rnn_hs512</th>\n",
       "      <td>12.1 ± 0.03</td>\n",
       "      <td>0.05 ± 0.0</td>\n",
       "      <td>14.16 ± 0.2</td>\n",
       "    </tr>\n",
       "    <tr>\n",
       "      <th>021-rnn_layer_2</th>\n",
       "      <td>12.09 ± 0.04</td>\n",
       "      <td>0.05 ± 0.0</td>\n",
       "      <td>14.08 ± 0.06</td>\n",
       "    </tr>\n",
       "    <tr>\n",
       "      <th>022-rnn_layer_3</th>\n",
       "      <td>12.08 ± 0.05</td>\n",
       "      <td>0.05 ± 0.0</td>\n",
       "      <td>14.0 ± 0.09</td>\n",
       "    </tr>\n",
       "  </tbody>\n",
       "</table>\n",
       "</div>"
      ]
     },
     "execution_count": 28,
     "metadata": {},
     "output_type": "execute_result"
    }
   ],
   "execution_count": 28
  },
  {
   "metadata": {
    "ExecuteTime": {
     "end_time": "2024-12-08T09:54:49.957413Z",
     "start_time": "2024-12-08T09:54:49.871660Z"
    }
   },
   "cell_type": "code",
   "source": "table.to_latex()",
   "id": "f616c573cb299740",
   "outputs": [
    {
     "data": {
      "text/plain": [
       "'\\\\begin{tabular}{llll}\\n\\\\toprule\\n & RMSE & MAPE & gRMSE \\\\\\\\\\n\\\\midrule\\n011-rnn_hs512 & 12.1 ± 0.03 & 0.05 ± 0.0 & 14.16 ± 0.2 \\\\\\\\\\n021-rnn_layer_2 & 12.09 ± 0.04 & 0.05 ± 0.0 & 14.08 ± 0.06 \\\\\\\\\\n022-rnn_layer_3 & 12.08 ± 0.05 & 0.05 ± 0.0 & 14.0 ± 0.09 \\\\\\\\\\n\\\\bottomrule\\n\\\\end{tabular}\\n'"
      ]
     },
     "execution_count": 29,
     "metadata": {},
     "output_type": "execute_result"
    }
   ],
   "execution_count": 29
  },
  {
   "metadata": {},
   "cell_type": "code",
   "outputs": [],
   "execution_count": null,
   "source": "",
   "id": "3834aa4e089ce24"
  }
 ],
 "metadata": {
  "kernelspec": {
   "display_name": "Python 3",
   "language": "python",
   "name": "python3"
  },
  "language_info": {
   "codemirror_mode": {
    "name": "ipython",
    "version": 2
   },
   "file_extension": ".py",
   "mimetype": "text/x-python",
   "name": "python",
   "nbconvert_exporter": "python",
   "pygments_lexer": "ipython2",
   "version": "2.7.6"
  }
 },
 "nbformat": 4,
 "nbformat_minor": 5
}
