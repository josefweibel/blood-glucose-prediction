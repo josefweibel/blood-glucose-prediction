{
 "cells": [
  {
   "cell_type": "code",
   "id": "initial_id",
   "metadata": {
    "collapsed": true,
    "ExecuteTime": {
     "end_time": "2024-12-08T19:27:43.213217Z",
     "start_time": "2024-12-08T19:27:43.129258Z"
    }
   },
   "source": [
    "%load_ext autoreload\n",
    "%autoreload 2"
   ],
   "outputs": [],
   "execution_count": 2
  },
  {
   "metadata": {
    "ExecuteTime": {
     "end_time": "2024-12-08T19:27:48.636154Z",
     "start_time": "2024-12-08T19:27:43.703063Z"
    }
   },
   "cell_type": "code",
   "source": [
    "import os\n",
    "if os.getcwd().endswith('notebooks'):\n",
    "    os.chdir('..')\n",
    "\n",
    "import numpy as np\n",
    "import pandas as pd\n",
    "import matplotlib.pyplot as plt\n",
    "import seaborn as sns\n",
    "import json\n",
    "from src.training import investigate_predictions, calculate_metrics, load_config, DATA_TIME_INTERVAL"
   ],
   "id": "c44e1e1d9ddc0164",
   "outputs": [],
   "execution_count": 3
  },
  {
   "metadata": {},
   "cell_type": "markdown",
   "source": "Model comparison LSTM, GRU, RNN",
   "id": "d4ffbd51a9e566a5"
  },
  {
   "metadata": {
    "ExecuteTime": {
     "end_time": "2024-12-08T08:38:34.593184Z",
     "start_time": "2024-12-08T08:38:34.299061Z"
    }
   },
   "cell_type": "code",
   "source": [
    "model_names = ['000-baseline', '001-baseline', '002-rnn'] # change\n",
    "\n",
    "model_results = []\n",
    "for model_name in model_names:\n",
    "    config = load_config(model_name)\n",
    "\n",
    "    for i in range(config['repetitions'] if 'repetitions' in config else 1):\n",
    "        with open(f'./models/{model_name}_{i+1}_meta.json') as f:\n",
    "            data = json.load(f)\n",
    "            model_results.append({\n",
    "                'model_name': model_name,\n",
    "                **{metric: scores[data['best_epoch']] for metric, scores in data['val_scores'].items()}\n",
    "            })\n",
    "\n",
    "model_results = pd.DataFrame(model_results)"
   ],
   "id": "8fe4d271b79431c7",
   "outputs": [],
   "execution_count": 6
  },
  {
   "metadata": {
    "ExecuteTime": {
     "end_time": "2024-12-08T08:38:35.012399Z",
     "start_time": "2024-12-08T08:38:34.923559Z"
    }
   },
   "cell_type": "code",
   "source": [
    "means = model_results.groupby('model_name').mean().round(2)\n",
    "stds = model_results.groupby('model_name').std().round(2)\n",
    "\n",
    "table = means.astype(str).add(' ± ').add(stds.astype(str))\n",
    "table.columns = table.columns.str.upper()\n",
    "table = table.rename(columns={'GMSE': 'gMSE', 'GRMSE': 'gRMSE'})\n",
    "table = table[['RMSE', 'MAPE', 'gRMSE']]\n",
    "table.index.name = None\n",
    "table"
   ],
   "id": "507a5b5a48d9aeee",
   "outputs": [
    {
     "data": {
      "text/plain": [
       "                      RMSE        MAPE         gRMSE\n",
       "000-baseline  12.33 ± 0.05  0.05 ± 0.0  14.56 ± 0.22\n",
       "001-baseline  13.88 ± 0.02  0.06 ± 0.0  16.13 ± 0.14\n",
       "002-rnn       12.11 ± 0.05  0.05 ± 0.0   14.2 ± 0.17"
      ],
      "text/html": [
       "<div>\n",
       "<style scoped>\n",
       "    .dataframe tbody tr th:only-of-type {\n",
       "        vertical-align: middle;\n",
       "    }\n",
       "\n",
       "    .dataframe tbody tr th {\n",
       "        vertical-align: top;\n",
       "    }\n",
       "\n",
       "    .dataframe thead th {\n",
       "        text-align: right;\n",
       "    }\n",
       "</style>\n",
       "<table border=\"1\" class=\"dataframe\">\n",
       "  <thead>\n",
       "    <tr style=\"text-align: right;\">\n",
       "      <th></th>\n",
       "      <th>RMSE</th>\n",
       "      <th>MAPE</th>\n",
       "      <th>gRMSE</th>\n",
       "    </tr>\n",
       "  </thead>\n",
       "  <tbody>\n",
       "    <tr>\n",
       "      <th>000-baseline</th>\n",
       "      <td>12.33 ± 0.05</td>\n",
       "      <td>0.05 ± 0.0</td>\n",
       "      <td>14.56 ± 0.22</td>\n",
       "    </tr>\n",
       "    <tr>\n",
       "      <th>001-baseline</th>\n",
       "      <td>13.88 ± 0.02</td>\n",
       "      <td>0.06 ± 0.0</td>\n",
       "      <td>16.13 ± 0.14</td>\n",
       "    </tr>\n",
       "    <tr>\n",
       "      <th>002-rnn</th>\n",
       "      <td>12.11 ± 0.05</td>\n",
       "      <td>0.05 ± 0.0</td>\n",
       "      <td>14.2 ± 0.17</td>\n",
       "    </tr>\n",
       "  </tbody>\n",
       "</table>\n",
       "</div>"
      ]
     },
     "execution_count": 7,
     "metadata": {},
     "output_type": "execute_result"
    }
   ],
   "execution_count": 7
  },
  {
   "metadata": {
    "ExecuteTime": {
     "end_time": "2024-12-08T08:38:37.487311Z",
     "start_time": "2024-12-08T08:38:37.413424Z"
    }
   },
   "cell_type": "code",
   "source": "table.to_latex()",
   "id": "e700de802f0ca061",
   "outputs": [
    {
     "data": {
      "text/plain": [
       "'\\\\begin{tabular}{llll}\\n\\\\toprule\\n & RMSE & MAPE & gRMSE \\\\\\\\\\n\\\\midrule\\n000-baseline & 12.33 ± 0.05 & 0.05 ± 0.0 & 14.56 ± 0.22 \\\\\\\\\\n001-baseline & 13.88 ± 0.02 & 0.06 ± 0.0 & 16.13 ± 0.14 \\\\\\\\\\n002-rnn & 12.11 ± 0.05 & 0.05 ± 0.0 & 14.2 ± 0.17 \\\\\\\\\\n\\\\bottomrule\\n\\\\end{tabular}\\n'"
      ]
     },
     "execution_count": 8,
     "metadata": {},
     "output_type": "execute_result"
    }
   ],
   "execution_count": 8
  },
  {
   "metadata": {},
   "cell_type": "markdown",
   "source": "Hidden states comparison",
   "id": "7fee8110cbdc8e2d"
  },
  {
   "metadata": {
    "ExecuteTime": {
     "end_time": "2024-12-08T09:28:46.590117Z",
     "start_time": "2024-12-08T09:28:45.081340Z"
    }
   },
   "cell_type": "code",
   "source": [
    "model_names = ['002-rnn', '011-rnn_hs512', '012-rnn_hs512_256_128', '013-rnn_hs_1024','014-rnn_hs_128'] # change\n",
    "\n",
    "model_results = []\n",
    "for model_name in model_names:\n",
    "    config = load_config(model_name)\n",
    "\n",
    "    for i in range(config['repetitions'] if 'repetitions' in config else 1):\n",
    "        with open(f'./models/{model_name}_{i+1}_meta.json') as f:\n",
    "            data = json.load(f)\n",
    "            model_results.append({\n",
    "                'model_name': model_name,\n",
    "                **{metric: scores[data['best_epoch']] for metric, scores in data['val_scores'].items()}\n",
    "            })\n",
    "\n",
    "model_results = pd.DataFrame(model_results)"
   ],
   "id": "301ef30bf69073e2",
   "outputs": [],
   "execution_count": 14
  },
  {
   "metadata": {
    "ExecuteTime": {
     "end_time": "2024-12-08T09:28:47.816381Z",
     "start_time": "2024-12-08T09:28:47.668488Z"
    }
   },
   "cell_type": "code",
   "source": [
    "means = model_results.groupby('model_name').mean().round(2)\n",
    "stds = model_results.groupby('model_name').std().round(2)\n",
    "\n",
    "table = means.astype(str).add(' ± ').add(stds.astype(str))\n",
    "table.columns = table.columns.str.upper()\n",
    "table = table.rename(columns={'GMSE': 'gMSE', 'GRMSE': 'gRMSE'})\n",
    "table = table[['RMSE', 'MAPE', 'gRMSE']]\n",
    "table.index.name = None\n",
    "table"
   ],
   "id": "300c6e3524397398",
   "outputs": [
    {
     "data": {
      "text/plain": [
       "                               RMSE        MAPE         gRMSE\n",
       "002-rnn                12.11 ± 0.05  0.05 ± 0.0   14.2 ± 0.17\n",
       "011-rnn_hs512           12.1 ± 0.03  0.05 ± 0.0   14.16 ± 0.2\n",
       "012-rnn_hs512_256_128  12.21 ± 0.08  0.05 ± 0.0  14.42 ± 0.12\n",
       "013-rnn_hs_1024        12.12 ± 0.06  0.05 ± 0.0   14.16 ± 0.1\n",
       "014-rnn_hs_128         12.37 ± 0.03  0.05 ± 0.0  14.56 ± 0.07"
      ],
      "text/html": [
       "<div>\n",
       "<style scoped>\n",
       "    .dataframe tbody tr th:only-of-type {\n",
       "        vertical-align: middle;\n",
       "    }\n",
       "\n",
       "    .dataframe tbody tr th {\n",
       "        vertical-align: top;\n",
       "    }\n",
       "\n",
       "    .dataframe thead th {\n",
       "        text-align: right;\n",
       "    }\n",
       "</style>\n",
       "<table border=\"1\" class=\"dataframe\">\n",
       "  <thead>\n",
       "    <tr style=\"text-align: right;\">\n",
       "      <th></th>\n",
       "      <th>RMSE</th>\n",
       "      <th>MAPE</th>\n",
       "      <th>gRMSE</th>\n",
       "    </tr>\n",
       "  </thead>\n",
       "  <tbody>\n",
       "    <tr>\n",
       "      <th>002-rnn</th>\n",
       "      <td>12.11 ± 0.05</td>\n",
       "      <td>0.05 ± 0.0</td>\n",
       "      <td>14.2 ± 0.17</td>\n",
       "    </tr>\n",
       "    <tr>\n",
       "      <th>011-rnn_hs512</th>\n",
       "      <td>12.1 ± 0.03</td>\n",
       "      <td>0.05 ± 0.0</td>\n",
       "      <td>14.16 ± 0.2</td>\n",
       "    </tr>\n",
       "    <tr>\n",
       "      <th>012-rnn_hs512_256_128</th>\n",
       "      <td>12.21 ± 0.08</td>\n",
       "      <td>0.05 ± 0.0</td>\n",
       "      <td>14.42 ± 0.12</td>\n",
       "    </tr>\n",
       "    <tr>\n",
       "      <th>013-rnn_hs_1024</th>\n",
       "      <td>12.12 ± 0.06</td>\n",
       "      <td>0.05 ± 0.0</td>\n",
       "      <td>14.16 ± 0.1</td>\n",
       "    </tr>\n",
       "    <tr>\n",
       "      <th>014-rnn_hs_128</th>\n",
       "      <td>12.37 ± 0.03</td>\n",
       "      <td>0.05 ± 0.0</td>\n",
       "      <td>14.56 ± 0.07</td>\n",
       "    </tr>\n",
       "  </tbody>\n",
       "</table>\n",
       "</div>"
      ]
     },
     "execution_count": 15,
     "metadata": {},
     "output_type": "execute_result"
    }
   ],
   "execution_count": 15
  },
  {
   "metadata": {
    "ExecuteTime": {
     "end_time": "2024-12-08T09:35:00.268949Z",
     "start_time": "2024-12-08T09:34:59.855609Z"
    }
   },
   "cell_type": "code",
   "source": "table.to_latex()",
   "id": "ee36965e084c785a",
   "outputs": [
    {
     "data": {
      "text/plain": [
       "'\\\\begin{tabular}{llll}\\n\\\\toprule\\n & RMSE & MAPE & gRMSE \\\\\\\\\\n\\\\midrule\\n002-rnn & 12.11 ± 0.05 & 0.05 ± 0.0 & 14.2 ± 0.17 \\\\\\\\\\n011-rnn_hs512 & 12.1 ± 0.03 & 0.05 ± 0.0 & 14.16 ± 0.2 \\\\\\\\\\n012-rnn_hs512_256_128 & 12.21 ± 0.08 & 0.05 ± 0.0 & 14.42 ± 0.12 \\\\\\\\\\n013-rnn_hs_1024 & 12.12 ± 0.06 & 0.05 ± 0.0 & 14.16 ± 0.1 \\\\\\\\\\n014-rnn_hs_128 & 12.37 ± 0.03 & 0.05 ± 0.0 & 14.56 ± 0.07 \\\\\\\\\\n\\\\bottomrule\\n\\\\end{tabular}\\n'"
      ]
     },
     "execution_count": 16,
     "metadata": {},
     "output_type": "execute_result"
    }
   ],
   "execution_count": 16
  },
  {
   "metadata": {},
   "cell_type": "markdown",
   "source": "Number layer comparison",
   "id": "d05a4b40ffa9a51c"
  },
  {
   "metadata": {
    "ExecuteTime": {
     "end_time": "2024-12-08T09:54:45.374593Z",
     "start_time": "2024-12-08T09:54:44.923Z"
    }
   },
   "cell_type": "code",
   "source": [
    "model_names = ['011-rnn_hs512', '021-rnn_layer_2', '022-rnn_layer_3']  # change\n",
    "\n",
    "model_results = []\n",
    "for model_name in model_names:\n",
    "    config = load_config(model_name)\n",
    "\n",
    "    for i in range(config['repetitions'] if 'repetitions' in config else 1):\n",
    "        with open(f'./models/{model_name}_{i + 1}_meta.json') as f:\n",
    "            data = json.load(f)\n",
    "            model_results.append({\n",
    "                'model_name': model_name,\n",
    "                **{metric: scores[data['best_epoch']] for metric, scores in data['val_scores'].items()}\n",
    "            })\n",
    "\n",
    "model_results = pd.DataFrame(model_results)"
   ],
   "id": "28b0dc15ba1c4ec6",
   "outputs": [],
   "execution_count": 27
  },
  {
   "metadata": {
    "ExecuteTime": {
     "end_time": "2024-12-08T09:54:46.178671Z",
     "start_time": "2024-12-08T09:54:46.054649Z"
    }
   },
   "cell_type": "code",
   "source": [
    "means = model_results.groupby('model_name').mean().round(2)\n",
    "stds = model_results.groupby('model_name').std().round(2)\n",
    "\n",
    "table = means.astype(str).add(' ± ').add(stds.astype(str))\n",
    "table.columns = table.columns.str.upper()\n",
    "table = table.rename(columns={'GMSE': 'gMSE', 'GRMSE': 'gRMSE'})\n",
    "table = table[['RMSE', 'MAPE', 'gRMSE']]\n",
    "table.index.name = None\n",
    "table"
   ],
   "id": "c017946e7563c8ba",
   "outputs": [
    {
     "data": {
      "text/plain": [
       "                         RMSE        MAPE         gRMSE\n",
       "011-rnn_hs512     12.1 ± 0.03  0.05 ± 0.0   14.16 ± 0.2\n",
       "021-rnn_layer_2  12.09 ± 0.04  0.05 ± 0.0  14.08 ± 0.06\n",
       "022-rnn_layer_3  12.08 ± 0.05  0.05 ± 0.0   14.0 ± 0.09"
      ],
      "text/html": [
       "<div>\n",
       "<style scoped>\n",
       "    .dataframe tbody tr th:only-of-type {\n",
       "        vertical-align: middle;\n",
       "    }\n",
       "\n",
       "    .dataframe tbody tr th {\n",
       "        vertical-align: top;\n",
       "    }\n",
       "\n",
       "    .dataframe thead th {\n",
       "        text-align: right;\n",
       "    }\n",
       "</style>\n",
       "<table border=\"1\" class=\"dataframe\">\n",
       "  <thead>\n",
       "    <tr style=\"text-align: right;\">\n",
       "      <th></th>\n",
       "      <th>RMSE</th>\n",
       "      <th>MAPE</th>\n",
       "      <th>gRMSE</th>\n",
       "    </tr>\n",
       "  </thead>\n",
       "  <tbody>\n",
       "    <tr>\n",
       "      <th>011-rnn_hs512</th>\n",
       "      <td>12.1 ± 0.03</td>\n",
       "      <td>0.05 ± 0.0</td>\n",
       "      <td>14.16 ± 0.2</td>\n",
       "    </tr>\n",
       "    <tr>\n",
       "      <th>021-rnn_layer_2</th>\n",
       "      <td>12.09 ± 0.04</td>\n",
       "      <td>0.05 ± 0.0</td>\n",
       "      <td>14.08 ± 0.06</td>\n",
       "    </tr>\n",
       "    <tr>\n",
       "      <th>022-rnn_layer_3</th>\n",
       "      <td>12.08 ± 0.05</td>\n",
       "      <td>0.05 ± 0.0</td>\n",
       "      <td>14.0 ± 0.09</td>\n",
       "    </tr>\n",
       "  </tbody>\n",
       "</table>\n",
       "</div>"
      ]
     },
     "execution_count": 28,
     "metadata": {},
     "output_type": "execute_result"
    }
   ],
   "execution_count": 28
  },
  {
   "metadata": {
    "ExecuteTime": {
     "end_time": "2024-12-08T09:54:49.957413Z",
     "start_time": "2024-12-08T09:54:49.871660Z"
    }
   },
   "cell_type": "code",
   "source": "table.to_latex()",
   "id": "f616c573cb299740",
   "outputs": [
    {
     "data": {
      "text/plain": [
       "'\\\\begin{tabular}{llll}\\n\\\\toprule\\n & RMSE & MAPE & gRMSE \\\\\\\\\\n\\\\midrule\\n011-rnn_hs512 & 12.1 ± 0.03 & 0.05 ± 0.0 & 14.16 ± 0.2 \\\\\\\\\\n021-rnn_layer_2 & 12.09 ± 0.04 & 0.05 ± 0.0 & 14.08 ± 0.06 \\\\\\\\\\n022-rnn_layer_3 & 12.08 ± 0.05 & 0.05 ± 0.0 & 14.0 ± 0.09 \\\\\\\\\\n\\\\bottomrule\\n\\\\end{tabular}\\n'"
      ]
     },
     "execution_count": 29,
     "metadata": {},
     "output_type": "execute_result"
    }
   ],
   "execution_count": 29
  },
  {
   "metadata": {},
   "cell_type": "markdown",
   "source": "RNN dropout",
   "id": "f993bb9274ceea5b"
  },
  {
   "metadata": {
    "ExecuteTime": {
     "end_time": "2024-12-08T10:34:33.441434Z",
     "start_time": "2024-12-08T10:34:33.208734Z"
    }
   },
   "cell_type": "code",
   "source": [
    "model_names = ['022-rnn_layer_3', '031-rnn_dropout_0.1', '032-rnn_dropout_0.2', '033-rnn_dropout_0.3'] # change\n",
    "\n",
    "model_results = []\n",
    "for model_name in model_names:\n",
    "    config = load_config(model_name)\n",
    "\n",
    "    for i in range(config['repetitions'] if 'repetitions' in config else 1):\n",
    "        with open(f'./models/{model_name}_{i+1}_meta.json') as f:\n",
    "            data = json.load(f)\n",
    "            model_results.append({\n",
    "                'model_name': model_name,\n",
    "                **{metric: scores[data['best_epoch']] for metric, scores in data['val_scores'].items()}\n",
    "            })\n",
    "\n",
    "model_results = pd.DataFrame(model_results)"
   ],
   "id": "3834aa4e089ce24",
   "outputs": [],
   "execution_count": 34
  },
  {
   "metadata": {
    "ExecuteTime": {
     "end_time": "2024-12-08T10:34:34.253948Z",
     "start_time": "2024-12-08T10:34:34.156278Z"
    }
   },
   "cell_type": "code",
   "source": [
    "means = model_results.groupby('model_name').mean().round(2)\n",
    "stds = model_results.groupby('model_name').std().round(2)\n",
    "\n",
    "table = means.astype(str).add(' ± ').add(stds.astype(str))\n",
    "table.columns = table.columns.str.upper()\n",
    "table = table.rename(columns={'GMSE': 'gMSE', 'GRMSE': 'gRMSE'})\n",
    "table = table[['RMSE', 'MAPE', 'gRMSE']]\n",
    "table.index.name = None\n",
    "table"
   ],
   "id": "4cbd22cbe77a453c",
   "outputs": [
    {
     "data": {
      "text/plain": [
       "                             RMSE        MAPE         gRMSE\n",
       "022-rnn_layer_3      12.08 ± 0.05  0.05 ± 0.0   14.0 ± 0.09\n",
       "031-rnn_dropout_0.1  12.12 ± 0.03  0.05 ± 0.0  14.16 ± 0.02\n",
       "032-rnn_dropout_0.2  12.22 ± 0.06  0.05 ± 0.0  14.22 ± 0.08\n",
       "033-rnn_dropout_0.3  12.39 ± 0.09  0.05 ± 0.0   14.3 ± 0.09"
      ],
      "text/html": [
       "<div>\n",
       "<style scoped>\n",
       "    .dataframe tbody tr th:only-of-type {\n",
       "        vertical-align: middle;\n",
       "    }\n",
       "\n",
       "    .dataframe tbody tr th {\n",
       "        vertical-align: top;\n",
       "    }\n",
       "\n",
       "    .dataframe thead th {\n",
       "        text-align: right;\n",
       "    }\n",
       "</style>\n",
       "<table border=\"1\" class=\"dataframe\">\n",
       "  <thead>\n",
       "    <tr style=\"text-align: right;\">\n",
       "      <th></th>\n",
       "      <th>RMSE</th>\n",
       "      <th>MAPE</th>\n",
       "      <th>gRMSE</th>\n",
       "    </tr>\n",
       "  </thead>\n",
       "  <tbody>\n",
       "    <tr>\n",
       "      <th>022-rnn_layer_3</th>\n",
       "      <td>12.08 ± 0.05</td>\n",
       "      <td>0.05 ± 0.0</td>\n",
       "      <td>14.0 ± 0.09</td>\n",
       "    </tr>\n",
       "    <tr>\n",
       "      <th>031-rnn_dropout_0.1</th>\n",
       "      <td>12.12 ± 0.03</td>\n",
       "      <td>0.05 ± 0.0</td>\n",
       "      <td>14.16 ± 0.02</td>\n",
       "    </tr>\n",
       "    <tr>\n",
       "      <th>032-rnn_dropout_0.2</th>\n",
       "      <td>12.22 ± 0.06</td>\n",
       "      <td>0.05 ± 0.0</td>\n",
       "      <td>14.22 ± 0.08</td>\n",
       "    </tr>\n",
       "    <tr>\n",
       "      <th>033-rnn_dropout_0.3</th>\n",
       "      <td>12.39 ± 0.09</td>\n",
       "      <td>0.05 ± 0.0</td>\n",
       "      <td>14.3 ± 0.09</td>\n",
       "    </tr>\n",
       "  </tbody>\n",
       "</table>\n",
       "</div>"
      ]
     },
     "execution_count": 35,
     "metadata": {},
     "output_type": "execute_result"
    }
   ],
   "execution_count": 35
  },
  {
   "metadata": {},
   "cell_type": "code",
   "outputs": [
    {
     "data": {
      "text/plain": [
       "'\\\\begin{tabular}{llll}\\n\\\\toprule\\n & RMSE & MAPE & gRMSE \\\\\\\\\\n\\\\midrule\\n022-rnn_layer_3 & 12.08 ± 0.05 & 0.05 ± 0.0 & 14.0 ± 0.09 \\\\\\\\\\n031-rnn_dropout_0.1 & 12.12 ± 0.03 & 0.05 ± 0.0 & 14.16 ± 0.02 \\\\\\\\\\n032-rnn_dropout_0.2 & 12.22 ± 0.06 & 0.05 ± 0.0 & 14.22 ± 0.08 \\\\\\\\\\n033-rnn_dropout_0.3 & 12.39 ± 0.09 & 0.05 ± 0.0 & 14.3 ± 0.09 \\\\\\\\\\n\\\\bottomrule\\n\\\\end{tabular}\\n'"
      ]
     },
     "execution_count": 36,
     "metadata": {},
     "output_type": "execute_result"
    }
   ],
   "execution_count": 36,
   "source": "table.to_latex()",
   "id": "e00f51accbd2dde"
  },
  {
   "metadata": {},
   "cell_type": "markdown",
   "source": "Fully connected layer dropout",
   "id": "4f17dae7bdc49194"
  },
  {
   "metadata": {
    "ExecuteTime": {
     "end_time": "2024-12-08T12:55:58.706925Z",
     "start_time": "2024-12-08T12:55:58.362100Z"
    }
   },
   "cell_type": "code",
   "source": [
    "model_names = ['022-rnn_layer_3', '041-fc_layer_dropout_0.1', '042-fc_layer_dropout_0.3', '043-fc_layer_dropout_0.4'] # change\n",
    "\n",
    "model_results = []\n",
    "for model_name in model_names:\n",
    "    config = load_config(model_name)\n",
    "\n",
    "    for i in range(config['repetitions'] if 'repetitions' in config else 1):\n",
    "        with open(f'./models/{model_name}_{i+1}_meta.json') as f:\n",
    "            data = json.load(f)\n",
    "            model_results.append({\n",
    "                'model_name': model_name,\n",
    "                **{metric: scores[data['best_epoch']] for metric, scores in data['val_scores'].items()}\n",
    "            })\n",
    "\n",
    "model_results = pd.DataFrame(model_results)"
   ],
   "id": "89c138e19b752a9d",
   "outputs": [],
   "execution_count": 40
  },
  {
   "metadata": {
    "ExecuteTime": {
     "end_time": "2024-12-08T12:55:59.461621Z",
     "start_time": "2024-12-08T12:55:59.374436Z"
    }
   },
   "cell_type": "code",
   "source": [
    "means = model_results.groupby('model_name').mean().round(2)\n",
    "stds = model_results.groupby('model_name').std().round(2)\n",
    "\n",
    "table = means.astype(str).add(' ± ').add(stds.astype(str))\n",
    "table.columns = table.columns.str.upper()\n",
    "table = table.rename(columns={'GMSE': 'gMSE', 'GRMSE': 'gRMSE'})\n",
    "table = table[['RMSE', 'MAPE', 'gRMSE']]\n",
    "table.index.name = None\n",
    "table"
   ],
   "id": "6a2d101678da9615",
   "outputs": [
    {
     "data": {
      "text/plain": [
       "                                  RMSE        MAPE        gRMSE\n",
       "022-rnn_layer_3           12.08 ± 0.05  0.05 ± 0.0  14.0 ± 0.09\n",
       "041-fc_layer_dropout_0.1  12.08 ± 0.05  0.05 ± 0.0  14.0 ± 0.09\n",
       "042-fc_layer_dropout_0.3  12.08 ± 0.05  0.05 ± 0.0  14.0 ± 0.09\n",
       "043-fc_layer_dropout_0.4  12.08 ± 0.05  0.05 ± 0.0  14.0 ± 0.09"
      ],
      "text/html": [
       "<div>\n",
       "<style scoped>\n",
       "    .dataframe tbody tr th:only-of-type {\n",
       "        vertical-align: middle;\n",
       "    }\n",
       "\n",
       "    .dataframe tbody tr th {\n",
       "        vertical-align: top;\n",
       "    }\n",
       "\n",
       "    .dataframe thead th {\n",
       "        text-align: right;\n",
       "    }\n",
       "</style>\n",
       "<table border=\"1\" class=\"dataframe\">\n",
       "  <thead>\n",
       "    <tr style=\"text-align: right;\">\n",
       "      <th></th>\n",
       "      <th>RMSE</th>\n",
       "      <th>MAPE</th>\n",
       "      <th>gRMSE</th>\n",
       "    </tr>\n",
       "  </thead>\n",
       "  <tbody>\n",
       "    <tr>\n",
       "      <th>022-rnn_layer_3</th>\n",
       "      <td>12.08 ± 0.05</td>\n",
       "      <td>0.05 ± 0.0</td>\n",
       "      <td>14.0 ± 0.09</td>\n",
       "    </tr>\n",
       "    <tr>\n",
       "      <th>041-fc_layer_dropout_0.1</th>\n",
       "      <td>12.08 ± 0.05</td>\n",
       "      <td>0.05 ± 0.0</td>\n",
       "      <td>14.0 ± 0.09</td>\n",
       "    </tr>\n",
       "    <tr>\n",
       "      <th>042-fc_layer_dropout_0.3</th>\n",
       "      <td>12.08 ± 0.05</td>\n",
       "      <td>0.05 ± 0.0</td>\n",
       "      <td>14.0 ± 0.09</td>\n",
       "    </tr>\n",
       "    <tr>\n",
       "      <th>043-fc_layer_dropout_0.4</th>\n",
       "      <td>12.08 ± 0.05</td>\n",
       "      <td>0.05 ± 0.0</td>\n",
       "      <td>14.0 ± 0.09</td>\n",
       "    </tr>\n",
       "  </tbody>\n",
       "</table>\n",
       "</div>"
      ]
     },
     "execution_count": 41,
     "metadata": {},
     "output_type": "execute_result"
    }
   ],
   "execution_count": 41
  },
  {
   "metadata": {
    "ExecuteTime": {
     "end_time": "2024-12-08T12:56:00.403274Z",
     "start_time": "2024-12-08T12:56:00.328274Z"
    }
   },
   "cell_type": "code",
   "source": "table.to_latex()",
   "id": "75c01e2dfef71a5",
   "outputs": [
    {
     "data": {
      "text/plain": [
       "'\\\\begin{tabular}{llll}\\n\\\\toprule\\n & RMSE & MAPE & gRMSE \\\\\\\\\\n\\\\midrule\\n022-rnn_layer_3 & 12.08 ± 0.05 & 0.05 ± 0.0 & 14.0 ± 0.09 \\\\\\\\\\n041-fc_layer_dropout_0.1 & 12.08 ± 0.05 & 0.05 ± 0.0 & 14.0 ± 0.09 \\\\\\\\\\n042-fc_layer_dropout_0.3 & 12.08 ± 0.05 & 0.05 ± 0.0 & 14.0 ± 0.09 \\\\\\\\\\n043-fc_layer_dropout_0.4 & 12.08 ± 0.05 & 0.05 ± 0.0 & 14.0 ± 0.09 \\\\\\\\\\n\\\\bottomrule\\n\\\\end{tabular}\\n'"
      ]
     },
     "execution_count": 42,
     "metadata": {},
     "output_type": "execute_result"
    }
   ],
   "execution_count": 42
  },
  {
   "metadata": {},
   "cell_type": "markdown",
   "source": "Prediction horizon",
   "id": "269f81e7087828f5"
  },
  {
   "metadata": {
    "ExecuteTime": {
     "end_time": "2024-12-08T19:29:34.904784Z",
     "start_time": "2024-12-08T19:29:34.588878Z"
    }
   },
   "cell_type": "code",
   "source": [
    "model_names = ['022-rnn_layer_3', '051-pred_horizon_15', '052-pred_horizon_45', '053-pred_horizon_60'] # change\n",
    "\n",
    "model_results = []\n",
    "for model_name in model_names:\n",
    "    config = load_config(model_name)\n",
    "\n",
    "    for i in range(config['repetitions'] if 'repetitions' in config else 1):\n",
    "        with open(f'./models/{model_name}_{i+1}_meta.json') as f:\n",
    "            data = json.load(f)\n",
    "            model_results.append({\n",
    "                'model_name': model_name,\n",
    "                **{metric: scores[data['best_epoch']] for metric, scores in data['val_scores'].items()}\n",
    "            })\n",
    "\n",
    "model_results = pd.DataFrame(model_results)"
   ],
   "id": "e486bd297303bb83",
   "outputs": [],
   "execution_count": 7
  },
  {
   "metadata": {
    "ExecuteTime": {
     "end_time": "2024-12-08T19:29:42.413709Z",
     "start_time": "2024-12-08T19:29:42.276067Z"
    }
   },
   "cell_type": "code",
   "source": [
    "means = model_results.groupby('model_name').mean().round(2)\n",
    "stds = model_results.groupby('model_name').std().round(2)\n",
    "\n",
    "table = means.astype(str).add(' ± ').add(stds.astype(str))\n",
    "table.columns = table.columns.str.upper()\n",
    "table = table.rename(columns={'GMSE': 'gMSE', 'GRMSE': 'gRMSE'})\n",
    "table = table[['RMSE', 'MAPE', 'gRMSE']]\n",
    "table.index.name = None\n",
    "table"
   ],
   "id": "db796fd6a8f82675",
   "outputs": [
    {
     "data": {
      "text/plain": [
       "                             RMSE        MAPE         gRMSE\n",
       "022-rnn_layer_3      12.08 ± 0.05  0.05 ± 0.0   14.0 ± 0.09\n",
       "051-pred_horizon_15   7.53 ± 0.02  0.03 ± 0.0   8.67 ± 0.12\n",
       "052-pred_horizon_45  15.94 ± 0.06  0.07 ± 0.0  18.83 ± 0.24\n",
       "053-pred_horizon_60  19.27 ± 0.08  0.08 ± 0.0  23.08 ± 0.16"
      ],
      "text/html": [
       "<div>\n",
       "<style scoped>\n",
       "    .dataframe tbody tr th:only-of-type {\n",
       "        vertical-align: middle;\n",
       "    }\n",
       "\n",
       "    .dataframe tbody tr th {\n",
       "        vertical-align: top;\n",
       "    }\n",
       "\n",
       "    .dataframe thead th {\n",
       "        text-align: right;\n",
       "    }\n",
       "</style>\n",
       "<table border=\"1\" class=\"dataframe\">\n",
       "  <thead>\n",
       "    <tr style=\"text-align: right;\">\n",
       "      <th></th>\n",
       "      <th>RMSE</th>\n",
       "      <th>MAPE</th>\n",
       "      <th>gRMSE</th>\n",
       "    </tr>\n",
       "  </thead>\n",
       "  <tbody>\n",
       "    <tr>\n",
       "      <th>022-rnn_layer_3</th>\n",
       "      <td>12.08 ± 0.05</td>\n",
       "      <td>0.05 ± 0.0</td>\n",
       "      <td>14.0 ± 0.09</td>\n",
       "    </tr>\n",
       "    <tr>\n",
       "      <th>051-pred_horizon_15</th>\n",
       "      <td>7.53 ± 0.02</td>\n",
       "      <td>0.03 ± 0.0</td>\n",
       "      <td>8.67 ± 0.12</td>\n",
       "    </tr>\n",
       "    <tr>\n",
       "      <th>052-pred_horizon_45</th>\n",
       "      <td>15.94 ± 0.06</td>\n",
       "      <td>0.07 ± 0.0</td>\n",
       "      <td>18.83 ± 0.24</td>\n",
       "    </tr>\n",
       "    <tr>\n",
       "      <th>053-pred_horizon_60</th>\n",
       "      <td>19.27 ± 0.08</td>\n",
       "      <td>0.08 ± 0.0</td>\n",
       "      <td>23.08 ± 0.16</td>\n",
       "    </tr>\n",
       "  </tbody>\n",
       "</table>\n",
       "</div>"
      ]
     },
     "execution_count": 8,
     "metadata": {},
     "output_type": "execute_result"
    }
   ],
   "execution_count": 8
  },
  {
   "metadata": {
    "ExecuteTime": {
     "end_time": "2024-12-08T19:29:44.854913Z",
     "start_time": "2024-12-08T19:29:44.760157Z"
    }
   },
   "cell_type": "code",
   "source": "table.to_latex()",
   "id": "7c7fee4da38d1314",
   "outputs": [
    {
     "data": {
      "text/plain": [
       "'\\\\begin{tabular}{llll}\\n\\\\toprule\\n & RMSE & MAPE & gRMSE \\\\\\\\\\n\\\\midrule\\n022-rnn_layer_3 & 12.08 ± 0.05 & 0.05 ± 0.0 & 14.0 ± 0.09 \\\\\\\\\\n051-pred_horizon_15 & 7.53 ± 0.02 & 0.03 ± 0.0 & 8.67 ± 0.12 \\\\\\\\\\n052-pred_horizon_45 & 15.94 ± 0.06 & 0.07 ± 0.0 & 18.83 ± 0.24 \\\\\\\\\\n053-pred_horizon_60 & 19.27 ± 0.08 & 0.08 ± 0.0 & 23.08 ± 0.16 \\\\\\\\\\n\\\\bottomrule\\n\\\\end{tabular}\\n'"
      ]
     },
     "execution_count": 9,
     "metadata": {},
     "output_type": "execute_result"
    }
   ],
   "execution_count": 9
  },
  {
   "metadata": {},
   "cell_type": "markdown",
   "source": "Train horizon",
   "id": "13f30fcc6175f8e5"
  },
  {
   "metadata": {
    "ExecuteTime": {
     "end_time": "2024-12-08T20:00:53.704125Z",
     "start_time": "2024-12-08T20:00:53.101043Z"
    }
   },
   "cell_type": "code",
   "source": [
    "model_names = ['022-rnn_layer_3', '061-train_horizon_45', '062-train_horizon_75'] # change\n",
    "\n",
    "model_results = []\n",
    "for model_name in model_names:\n",
    "    config = load_config(model_name)\n",
    "\n",
    "    for i in range(config['repetitions'] if 'repetitions' in config else 1):\n",
    "        with open(f'./models/{model_name}_{i+1}_meta.json') as f:\n",
    "            data = json.load(f)\n",
    "            model_results.append({\n",
    "                'model_name': model_name,\n",
    "                **{metric: scores[data['best_epoch']] for metric, scores in data['val_scores'].items()}\n",
    "            })\n",
    "\n",
    "model_results = pd.DataFrame(model_results)"
   ],
   "id": "5e4ae94008f97e27",
   "outputs": [],
   "execution_count": 10
  },
  {
   "metadata": {
    "ExecuteTime": {
     "end_time": "2024-12-08T20:00:54.506127Z",
     "start_time": "2024-12-08T20:00:54.366813Z"
    }
   },
   "cell_type": "code",
   "source": [
    "means = model_results.groupby('model_name').mean().round(2)\n",
    "stds = model_results.groupby('model_name').std().round(2)\n",
    "\n",
    "table = means.astype(str).add(' ± ').add(stds.astype(str))\n",
    "table.columns = table.columns.str.upper()\n",
    "table = table.rename(columns={'GMSE': 'gMSE', 'GRMSE': 'gRMSE'})\n",
    "table = table[['RMSE', 'MAPE', 'gRMSE']]\n",
    "table.index.name = None\n",
    "table"
   ],
   "id": "71a8b00cbf54070f",
   "outputs": [
    {
     "data": {
      "text/plain": [
       "                              RMSE        MAPE         gRMSE\n",
       "022-rnn_layer_3       12.08 ± 0.05  0.05 ± 0.0   14.0 ± 0.09\n",
       "061-train_horizon_45   12.1 ± 0.06  0.05 ± 0.0  14.13 ± 0.13\n",
       "062-train_horizon_75  12.09 ± 0.05  0.05 ± 0.0  14.23 ± 0.05"
      ],
      "text/html": [
       "<div>\n",
       "<style scoped>\n",
       "    .dataframe tbody tr th:only-of-type {\n",
       "        vertical-align: middle;\n",
       "    }\n",
       "\n",
       "    .dataframe tbody tr th {\n",
       "        vertical-align: top;\n",
       "    }\n",
       "\n",
       "    .dataframe thead th {\n",
       "        text-align: right;\n",
       "    }\n",
       "</style>\n",
       "<table border=\"1\" class=\"dataframe\">\n",
       "  <thead>\n",
       "    <tr style=\"text-align: right;\">\n",
       "      <th></th>\n",
       "      <th>RMSE</th>\n",
       "      <th>MAPE</th>\n",
       "      <th>gRMSE</th>\n",
       "    </tr>\n",
       "  </thead>\n",
       "  <tbody>\n",
       "    <tr>\n",
       "      <th>022-rnn_layer_3</th>\n",
       "      <td>12.08 ± 0.05</td>\n",
       "      <td>0.05 ± 0.0</td>\n",
       "      <td>14.0 ± 0.09</td>\n",
       "    </tr>\n",
       "    <tr>\n",
       "      <th>061-train_horizon_45</th>\n",
       "      <td>12.1 ± 0.06</td>\n",
       "      <td>0.05 ± 0.0</td>\n",
       "      <td>14.13 ± 0.13</td>\n",
       "    </tr>\n",
       "    <tr>\n",
       "      <th>062-train_horizon_75</th>\n",
       "      <td>12.09 ± 0.05</td>\n",
       "      <td>0.05 ± 0.0</td>\n",
       "      <td>14.23 ± 0.05</td>\n",
       "    </tr>\n",
       "  </tbody>\n",
       "</table>\n",
       "</div>"
      ]
     },
     "execution_count": 11,
     "metadata": {},
     "output_type": "execute_result"
    }
   ],
   "execution_count": 11
  },
  {
   "metadata": {
    "ExecuteTime": {
     "end_time": "2024-12-08T20:00:56.899326Z",
     "start_time": "2024-12-08T20:00:56.796246Z"
    }
   },
   "cell_type": "code",
   "source": "table.to_latex()",
   "id": "7529adbe20af00f3",
   "outputs": [
    {
     "data": {
      "text/plain": [
       "'\\\\begin{tabular}{llll}\\n\\\\toprule\\n & RMSE & MAPE & gRMSE \\\\\\\\\\n\\\\midrule\\n022-rnn_layer_3 & 12.08 ± 0.05 & 0.05 ± 0.0 & 14.0 ± 0.09 \\\\\\\\\\n061-train_horizon_45 & 12.1 ± 0.06 & 0.05 ± 0.0 & 14.13 ± 0.13 \\\\\\\\\\n062-train_horizon_75 & 12.09 ± 0.05 & 0.05 ± 0.0 & 14.23 ± 0.05 \\\\\\\\\\n\\\\bottomrule\\n\\\\end{tabular}\\n'"
      ]
     },
     "execution_count": 12,
     "metadata": {},
     "output_type": "execute_result"
    }
   ],
   "execution_count": 12
  },
  {
   "metadata": {},
   "cell_type": "code",
   "outputs": [],
   "execution_count": null,
   "source": "",
   "id": "ba72cba0bc812905"
  }
 ],
 "metadata": {
  "kernelspec": {
   "display_name": "Python 3",
   "language": "python",
   "name": "python3"
  },
  "language_info": {
   "codemirror_mode": {
    "name": "ipython",
    "version": 2
   },
   "file_extension": ".py",
   "mimetype": "text/x-python",
   "name": "python",
   "nbconvert_exporter": "python",
   "pygments_lexer": "ipython2",
   "version": "2.7.6"
  }
 },
 "nbformat": 4,
 "nbformat_minor": 5
}
