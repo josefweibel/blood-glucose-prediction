{
 "cells": [
  {
   "cell_type": "code",
   "execution_count": 5,
   "metadata": {},
   "outputs": [
    {
     "name": "stderr",
     "output_type": "stream",
     "text": [
      "/var/folders/zl/w6zt87md14j4524by47x78j00000gq/T/ipykernel_55635/503709632.py:28: SettingWithCopyWarning: \n",
      "A value is trying to be set on a copy of a slice from a DataFrame.\n",
      "Try using .loc[row_indexer,col_indexer] = value instead\n",
      "\n",
      "See the caveats in the documentation: https://pandas.pydata.org/pandas-docs/stable/user_guide/indexing.html#returning-a-view-versus-a-copy\n",
      "  data['5minute_intervals_timestamp'] = pd.to_datetime('1970-01-01') + pd.to_timedelta(data['5minute_intervals_timestamp'] * 5, unit='m')\n",
      "/var/folders/zl/w6zt87md14j4524by47x78j00000gq/T/ipykernel_55635/503709632.py:28: SettingWithCopyWarning: \n",
      "A value is trying to be set on a copy of a slice from a DataFrame.\n",
      "Try using .loc[row_indexer,col_indexer] = value instead\n",
      "\n",
      "See the caveats in the documentation: https://pandas.pydata.org/pandas-docs/stable/user_guide/indexing.html#returning-a-view-versus-a-copy\n",
      "  data['5minute_intervals_timestamp'] = pd.to_datetime('1970-01-01') + pd.to_timedelta(data['5minute_intervals_timestamp'] * 5, unit='m')\n"
     ]
    },
    {
     "name": "stdout",
     "output_type": "stream",
     "text": [
      "Training DataFrame shape: (122431, 8)\n",
      "Validation DataFrame shape: (30608, 8)\n",
      "Test DataFrame shape: (35909, 8)\n"
     ]
    }
   ],
   "source": [
    "import os\n",
    "import pandas as pd\n",
    "\n",
    "if os.getcwd().endswith('notebooks'):\n",
    "    os.chdir('..')\n",
    "\n",
    "def load_data_from_directory(directory_path):\n",
    "    \"\"\"Loads CSV files from a given directory, adding a 'subject' column based on filename.\"\"\"\n",
    "    dataframes = []\n",
    "    for filename in os.listdir(directory_path):\n",
    "        if filename.endswith(\".csv\"):\n",
    "            subject = int(filename.split('-')[0])\n",
    "            file_path = os.path.join(directory_path, filename)\n",
    "            df = pd.read_csv(file_path)\n",
    "            df['subject'] = subject\n",
    "            dataframes.append(df)\n",
    "    return pd.concat(dataframes, ignore_index=True)\n",
    "\n",
    "def split_data(df, train_ratio=0.8):\n",
    "    \"\"\"Splits the data into training and validation sets based on a given ratio.\"\"\"\n",
    "    train_rows = int(train_ratio * len(df))\n",
    "    df_train = df.iloc[:train_rows, :]\n",
    "    df_val = df.iloc[train_rows:, :]\n",
    "    return df_train, df_val\n",
    "\n",
    "def process_data(data):\n",
    "    \"\"\"Processes the data by modifying timestamp, filling missing values, and interpolating.\"\"\"\n",
    "    data['5minute_intervals_timestamp'] = pd.to_datetime('1970-01-01') + pd.to_timedelta(data['5minute_intervals_timestamp'] * 5, unit='m')\n",
    "    cleaned_data = data.drop(columns=['finger', 'hr'])\n",
    "    cleaned_data['carbInput'] = cleaned_data['carbInput'].fillna(0)\n",
    "    cleaned_data['bolus'] = cleaned_data['bolus'].fillna(0)\n",
    "    cleaned_data['basal'] = cleaned_data.groupby('subject')['basal'].transform(lambda x: x.fillna(x.median()))\n",
    "    cleaned_data['gsr'] = cleaned_data['gsr'].fillna(0)\n",
    "    cleaned_data['cbg'] = cleaned_data['cbg'].interpolate('linear')\n",
    "    return cleaned_data\n",
    "\n",
    "def save_data(df, filename):\n",
    "    \"\"\"Saves a DataFrame to a CSV file.\"\"\"\n",
    "    df.to_csv(filename, index=False)\n",
    "\n",
    "def main():\n",
    "    # Load and process training and validation data\n",
    "    train_data = load_data_from_directory('data/train')\n",
    "    train_df, val_df = split_data(train_data)\n",
    "\n",
    "    train_processed = process_data(train_df)\n",
    "    val_processed = process_data(val_df)\n",
    "\n",
    "    save_data(train_processed, 'data/train_processed.csv')\n",
    "    save_data(val_processed, 'data/val_processed.csv')\n",
    "\n",
    "    # Load and process test data\n",
    "    test_data = load_data_from_directory('data/test')\n",
    "    test_processed = process_data(test_data)\n",
    "\n",
    "    save_data(test_processed, 'data/test_processed.csv')\n",
    "\n",
    "    # Print shapes as a quick check\n",
    "    print(\"Training DataFrame shape:\", train_processed.shape)\n",
    "    print(\"Validation DataFrame shape:\", val_processed.shape)\n",
    "    print(\"Test DataFrame shape:\", test_processed.shape)\n",
    "\n",
    "# Run the main function if the script is executed\n",
    "if __name__ == \"__main__\":\n",
    "    main()\n"
   ]
  },
  {
   "cell_type": "code",
   "execution_count": null,
   "metadata": {},
   "outputs": [],
   "source": []
  }
 ],
 "metadata": {
  "kernelspec": {
   "display_name": "blood-glucose-prediction-CeMqH0V2",
   "language": "python",
   "name": "python3"
  },
  "language_info": {
   "codemirror_mode": {
    "name": "ipython",
    "version": 3
   },
   "file_extension": ".py",
   "mimetype": "text/x-python",
   "name": "python",
   "nbconvert_exporter": "python",
   "pygments_lexer": "ipython3",
   "version": "3.10.9"
  }
 },
 "nbformat": 4,
 "nbformat_minor": 2
}
